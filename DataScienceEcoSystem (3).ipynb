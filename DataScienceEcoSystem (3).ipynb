{
 "cells": [
  {
   "cell_type": "markdown",
   "id": "fa4aca35",
   "metadata": {},
   "source": [
    "# Data Science Tools and Ecosystem"
   ]
  },
  {
   "cell_type": "markdown",
   "id": "57eb97ea",
   "metadata": {},
   "source": [
    "In this notebook, Data Science Tools and Ecosystem are summarized."
   ]
  },
  {
   "cell_type": "markdown",
   "id": "b0a97249",
   "metadata": {},
   "source": [
    "**Objectives**\n",
    "\n",
    "* Listing popular data science languages\n",
    "\n",
    "* Listing common tools\n",
    "\n",
    "* writing simple code"
   ]
  },
  {
   "cell_type": "markdown",
   "id": "04ac5e68",
   "metadata": {},
   "source": [
    "Some of the popular languages that Data Scientists use are:\n",
    "\n",
    "1.Python\n",
    "\n",
    "2.R Programming\n",
    "\n",
    "3.Java\n",
    "\n",
    "4.Javascript\n"
   ]
  },
  {
   "cell_type": "markdown",
   "id": "8913d228",
   "metadata": {},
   "source": [
    "Some of the commonly used libraries used by Data Scientists include:\n",
    "\n",
    "1.Matplotlib\n",
    "\n",
    "2.Tensorflow\n",
    "\n",
    "3.Numpy\n",
    "\n",
    "4.Scipy"
   ]
  },
  {
   "cell_type": "markdown",
   "id": "b5f71f0d",
   "metadata": {},
   "source": [
    "| Data Sccience Tools |\n",
    "|-------------|\n",
    "|RStudio|\n",
    "|TensorFlow|\n",
    "|Apache Spark|"
   ]
  },
  {
   "cell_type": "markdown",
   "id": "a71e14ca",
   "metadata": {},
   "source": [
    "## Below are few examples of evaluating arithmetic expressions in Python."
   ]
  },
  {
   "cell_type": "code",
   "execution_count": 1,
   "id": "0ae20908",
   "metadata": {},
   "outputs": [
    {
     "name": "stdout",
     "output_type": "stream",
     "text": [
      "17\n"
     ]
    }
   ],
   "source": [
    "# This is a simple arithmetic expression to multiply and then add integers\n",
    "result = (3*4)+5\n",
    "print(result)"
   ]
  },
  {
   "cell_type": "code",
   "execution_count": 3,
   "id": "0585e4b3",
   "metadata": {},
   "outputs": [
    {
     "name": "stdout",
     "output_type": "stream",
     "text": [
      "3.3333333333333335\n"
     ]
    }
   ],
   "source": [
    "#This expression converts minutes into hours\n",
    "minutes = 200\n",
    "result_in_hours = minutes / 60\n",
    "print(result_in_hours)"
   ]
  },
  {
   "cell_type": "markdown",
   "id": "c1af2a56",
   "metadata": {},
   "source": [
    "## Author\n",
    "Chandana Ravikumar"
   ]
  }
 ],
 "metadata": {
  "kernelspec": {
   "display_name": "Python 3 (ipykernel)",
   "language": "python",
   "name": "python3"
  },
  "language_info": {
   "codemirror_mode": {
    "name": "ipython",
    "version": 3
   },
   "file_extension": ".py",
   "mimetype": "text/x-python",
   "name": "python",
   "nbconvert_exporter": "python",
   "pygments_lexer": "ipython3",
   "version": "3.9.13"
  }
 },
 "nbformat": 4,
 "nbformat_minor": 5
}
